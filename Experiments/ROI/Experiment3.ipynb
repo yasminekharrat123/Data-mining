{
 "cells": [
  {
   "cell_type": "markdown",
   "id": "f01bb78b-d998-4a12-be29-ec4cc1c916c4",
   "metadata": {
    "jp-MarkdownHeadingCollapsed": true
   },
   "source": [
    "## Preparing the data"
   ]
  },
  {
   "cell_type": "code",
   "execution_count": 25,
   "id": "ac79c6e6-a325-4149-a86c-ba764854a515",
   "metadata": {},
   "outputs": [],
   "source": [
    "import pandas as pd\n",
    "import numpy as np\n",
    "\n",
    "df = pd.read_csv(\"../preprocessed.tsv\", sep = \"\\t\")\n",
    "df = df.apply(lambda x: x.astype(int) if x.dtype == 'bool' else x)\n",
    "\n",
    "df = df.drop(columns=[\"revenue\"])\n",
    "df = df.fillna(0)"
   ]
  },
  {
   "cell_type": "code",
   "execution_count": 16,
   "id": "41437f4a-f793-406d-a890-b919f76daa9d",
   "metadata": {},
   "outputs": [],
   "source": [
    " df = df.drop(columns=[\"Transmedia\",'startYear',\"max_genre_profitability\",\"runtime\"])"
   ]
  },
  {
   "cell_type": "code",
   "execution_count": 75,
   "id": "d53dc9eb-6325-4dcb-b3d3-82c615cf786c",
   "metadata": {},
   "outputs": [],
   "source": [
    "df = df.fillna(0)\n",
    "df = df.drop(columns = [\"director_max_total_profit\", \"director_max_avg_profit\",\"director_max_avg_gross\"])\n",
    "df = df.drop(columns = [\"writer_max_total_profit\", \"writer_max_avg_profit\", \"writer_max_avg_gross\"])\n",
    "df = df.drop(columns = [\"actors_avg_total_profit\",\"actors_avg_total_gross\",\"actors_avg_nb_movies\"])"
   ]
  },
  {
   "cell_type": "code",
   "execution_count": 26,
   "id": "d5c61ceb-1f0d-42ad-b8c1-98f2831be770",
   "metadata": {},
   "outputs": [],
   "source": [
    "df[\"ROI\"] = np.log(df[\"ROI\"]+ 100)"
   ]
  },
  {
   "cell_type": "code",
   "execution_count": 27,
   "id": "4b476fcc-24e5-495a-bc73-9cbe333afc6b",
   "metadata": {},
   "outputs": [],
   "source": [
    "X = df.drop(columns=['ROI'])\n",
    "XP = df.drop(columns=['ROI'])\n",
    "y = df[\"ROI\"]"
   ]
  },
  {
   "cell_type": "code",
   "execution_count": 28,
   "id": "ecc5c465-7878-44be-90b6-fd44c0b6d940",
   "metadata": {},
   "outputs": [],
   "source": [
    "from sklearn.preprocessing import StandardScaler\n",
    "scaler = StandardScaler()\n",
    "X = scaler.fit_transform(X)"
   ]
  },
  {
   "cell_type": "code",
   "execution_count": null,
   "id": "02b0afcb-6e9b-4cdb-b1e6-88edd24b948e",
   "metadata": {},
   "outputs": [],
   "source": [
    "import numpy as np\n",
    "import matplotlib.pyplot as plt\n",
    "import seaborn as sns\n",
    "\n",
    "lower_percentile = np.percentile(y, 0)\n",
    "upper_percentile = np.percentile(y, 100)\n",
    "\n",
    "y_filtered = y[(y >= lower_percentile) & (y <= upper_percentile)]\n",
    "\n",
    "plt.figure(figsize=(10, 6))\n",
    "sns.histplot(y_filtered, kde=False, color='blue', label='y', bins=100, stat='density')\n",
    "plt.legend()\n",
    "plt.xlabel('ROI')\n",
    "plt.ylabel('Density')\n",
    "plt.show()"
   ]
  },
  {
   "cell_type": "markdown",
   "id": "37569b10-6abb-4865-96d0-fbb7e2fda307",
   "metadata": {
    "jp-MarkdownHeadingCollapsed": true
   },
   "source": [
    "## Using LASSO"
   ]
  },
  {
   "cell_type": "code",
   "execution_count": 11,
   "id": "76c1b3e3-d9a9-413e-91a2-63e138cf090f",
   "metadata": {},
   "outputs": [
    {
     "name": "stdout",
     "output_type": "stream",
     "text": [
      "RMSE for each fold: [1.76572468 1.84051446 2.08437429 2.30937699 2.03521787 2.37093547\n",
      " 2.10505059 2.01345    2.10433347 2.24371535]\n",
      "Average RMSE: 2.087269318108322\n",
      "R² for each fold: [0.14466612 0.13199132 0.14395745 0.15733319 0.17766902 0.13878945\n",
      " 0.19307037 0.2290923  0.25655184 0.13960514]\n",
      "Average R²: 0.17127262022036152\n"
     ]
    }
   ],
   "source": [
    "from sklearn.linear_model import Lasso\n",
    "from sklearn.model_selection import cross_val_score\n",
    "import numpy as np\n",
    "from sklearn.metrics import r2_score\n",
    "\n",
    "# Lasso model\n",
    "lasso = Lasso(alpha=0.025)\n",
    "\n",
    "# Perform 10-fold cross-validation\n",
    "mse_scores = cross_val_score(lasso, X, y, cv=10, scoring='neg_mean_squared_error')\n",
    "\n",
    "# Convert MSE to RMSE (note that scores are negative because of 'neg_mean_squared_error')\n",
    "rmse_scores = np.sqrt(-mse_scores)\n",
    "\n",
    "# Print RMSE for each fold and the average RMSE\n",
    "print(\"RMSE for each fold:\", rmse_scores)\n",
    "print(\"Average RMSE:\", rmse_scores.mean())\n",
    "\n",
    "# Perform cross-validation for R² score\n",
    "r2_scores = cross_val_score(lasso, X, y, cv=10, scoring='r2')\n",
    "\n",
    "# Print R² for each fold and the average R²\n",
    "print(\"R² for each fold:\", r2_scores)\n",
    "print(\"Average R²:\", r2_scores.mean())\n"
   ]
  },
  {
   "cell_type": "code",
   "execution_count": null,
   "id": "171a21d3-2ea2-40e8-ace3-4d2d846abcd0",
   "metadata": {},
   "outputs": [],
   "source": [
    "from sklearn.linear_model import Lasso\n",
    "\n",
    "import pandas as pd\n",
    "import numpy as np\n",
    "\n",
    "# Fit the Lasso model\n",
    "lasso = Lasso(alpha=0.025)\n",
    "lasso.fit(X, y)\n",
    "\n",
    "# Get feature importances (absolute value of coefficients)\n",
    "feature_importance = lasso.coef_\n",
    "\n",
    "# Create a DataFrame to display features and their importance\n",
    "importance_df = pd.DataFrame({\n",
    "    'Feature': XP.columns,\n",
    "    'Importance': feature_importance\n",
    "})\n",
    "\n",
    "\n",
    "pd.set_option('display.max_rows', None)\n",
    "\n",
    "# Sort by importance in descending order\n",
    "importance_df = importance_df.sort_values(by='Importance')\n",
    "\n",
    "selected_features = importance_df[importance_df['Importance'] != 0]['Feature'].tolist()\n",
    "\n",
    "from statsmodels.stats.outliers_influence import variance_inflation_factor\n",
    "from statsmodels.tools.tools import add_constant\n",
    "X_selected = XP[selected_features]\n",
    "\n",
    "\n",
    "# Calculate VIF for each feature\n",
    "vif_data = pd.DataFrame()\n",
    "vif_data[\"Feature\"] = X_selected.columns\n",
    "vif_data[\"VIF\"] = [variance_inflation_factor(X_selected.values, i) for i in range(X_selected.shape[1])]\n",
    "\n",
    "# Display the VIF for each feature\n",
    "print(vif_data)\n",
    "\n"
   ]
  },
  {
   "cell_type": "code",
   "execution_count": null,
   "id": "6678a521-e302-4f5e-8a21-7fa1c0112029",
   "metadata": {},
   "outputs": [],
   "source": [
    "importance_df = importance_df.reindex(importance_df[\"Importance\"].abs().sort_values(ascending=False).index)\n",
    "importance_df"
   ]
  },
  {
   "cell_type": "markdown",
   "id": "f6d39025-9492-456a-b715-647ee658a93f",
   "metadata": {
    "jp-MarkdownHeadingCollapsed": true
   },
   "source": [
    "## Using XGB"
   ]
  },
  {
   "cell_type": "code",
   "execution_count": 12,
   "id": "5b7df051-1ebf-49de-8f8e-3194444eefcc",
   "metadata": {},
   "outputs": [
    {
     "name": "stdout",
     "output_type": "stream",
     "text": [
      "RMSE: 1.7388\n"
     ]
    }
   ],
   "source": [
    "import xgboost as xgb\n",
    "import numpy as np\n",
    "from sklearn.model_selection import train_test_split\n",
    "from sklearn.metrics import root_mean_squared_error\n",
    "\n",
    "\n",
    "# Split data\n",
    "X_train, X_test, y_train, y_test = train_test_split(X, y, test_size=0.2, random_state=42)\n",
    "\n",
    "# Train XGBoost model\n",
    "model = xgb.XGBRegressor(objective='reg:squarederror', n_estimators=100, learning_rate=0.07, max_depth=3)\n",
    "model.fit(X_train, y_train)\n",
    "\n",
    "# Predictions\n",
    "y_pred = model.predict(X_test)\n",
    "\n",
    "y_pred_original = np.expm1(y_pred)\n",
    "y_test_original = np.expm1(y_test)\n",
    "\n",
    "# Evaluate\n",
    "rmse = root_mean_squared_error(y_test, y_pred)\n",
    "print(f\"RMSE: {rmse:.4f}\")"
   ]
  },
  {
   "cell_type": "code",
   "execution_count": 13,
   "id": "144daf90-7298-46a5-84f2-310aa07bef05",
   "metadata": {},
   "outputs": [
    {
     "name": "stdout",
     "output_type": "stream",
     "text": [
      "R² (original scale): 0.3833\n"
     ]
    }
   ],
   "source": [
    "from sklearn.metrics import r2_score\n",
    "\n",
    "# Compute R² on original scale\n",
    "r2_original = r2_score(y_test, y_pred)\n",
    "print(f\"R² (original scale): {r2_original:.4f}\")"
   ]
  },
  {
   "cell_type": "markdown",
   "id": "0b1178aa-5c63-46bb-b079-0a50f6ab8e68",
   "metadata": {
    "jp-MarkdownHeadingCollapsed": true
   },
   "source": [
    "## Using SVR"
   ]
  },
  {
   "cell_type": "code",
   "execution_count": 14,
   "id": "a37dbcc7-360b-4392-8c53-af00b827c51a",
   "metadata": {},
   "outputs": [
    {
     "name": "stdout",
     "output_type": "stream",
     "text": [
      "RMSE: 2.0327\n",
      "R² (original scale): 0.1572\n"
     ]
    }
   ],
   "source": [
    "from sklearn.svm import SVR\n",
    "import numpy as np\n",
    "from sklearn.model_selection import train_test_split\n",
    "from sklearn.metrics import root_mean_squared_error\n",
    "\n",
    "\n",
    "# Split data\n",
    "X_train, X_test, y_train, y_test = train_test_split(X, y, test_size=0.2, random_state=42)\n",
    "\n",
    "# Train XGBoost model\n",
    "model = SVR(kernel='rbf', C=0.1, epsilon=0.01)\n",
    "model.fit(X_train, y_train)\n",
    "\n",
    "# Predictions\n",
    "y_pred = model.predict(X_test)\n",
    "\n",
    "y_pred_original = np.expm1(y_pred)\n",
    "y_test_original = np.expm1(y_test)\n",
    "\n",
    "# Evaluate\n",
    "rmse = root_mean_squared_error(y_test, y_pred)\n",
    "print(f\"RMSE: {rmse:.4f}\")\n",
    "\n",
    "from sklearn.metrics import r2_score\n",
    "\n",
    "# Compute R² on original scale\n",
    "r2_original = r2_score(y_test, y_pred)\n",
    "print(f\"R² (original scale): {r2_original:.4f}\")"
   ]
  },
  {
   "cell_type": "code",
   "execution_count": null,
   "id": "79cc93f6-0157-48d6-badc-79a1eec9be19",
   "metadata": {},
   "outputs": [],
   "source": []
  }
 ],
 "metadata": {
  "kernelspec": {
   "display_name": "Python 3 (ipykernel)",
   "language": "python",
   "name": "python3"
  },
  "language_info": {
   "codemirror_mode": {
    "name": "ipython",
    "version": 3
   },
   "file_extension": ".py",
   "mimetype": "text/x-python",
   "name": "python",
   "nbconvert_exporter": "python",
   "pygments_lexer": "ipython3",
   "version": "3.12.2"
  }
 },
 "nbformat": 4,
 "nbformat_minor": 5
}
