{
 "cells": [
  {
   "cell_type": "markdown",
   "id": "cf751b44-8e97-4eba-8b63-6e8154a745f5",
   "metadata": {
    "jp-MarkdownHeadingCollapsed": true
   },
   "source": [
    "## Libs"
   ]
  },
  {
   "cell_type": "code",
   "execution_count": 3,
   "id": "4503cc11-90ac-40d2-b88a-0946b7b7bd0b",
   "metadata": {},
   "outputs": [],
   "source": [
    "## lib: defined functions and classes\n",
    "import numpy as np\n",
    "from typing import Union, List, Optional\n",
    "\n",
    "def create_ordinal_labels(values: np.ndarray, \n",
    "                         n_classes: int = 3, \n",
    "                         thresholds: Optional[List[float]] = None) -> np.ndarray:\n",
    "    if n_classes < 2:\n",
    "        raise ValueError(\"n_classes must be at least 2\")\n",
    "    \n",
    "    if thresholds is not None:\n",
    "        if len(thresholds) != n_classes - 1:\n",
    "            raise ValueError(f\"Expected {n_classes-1} thresholds for {n_classes} classes, \"\n",
    "                           f\"but got {len(thresholds)}\")\n",
    "    else:\n",
    "        percentiles = np.linspace(0, 100, n_classes + 1)[1:-1]\n",
    "        thresholds = [np.percentile(values, p) for p in percentiles]\n",
    "    \n",
    "    # Initialize labels array with zeros\n",
    "    labels = np.zeros(len(values))\n",
    "    \n",
    "    # Assign labels based on thresholds\n",
    "    for i, threshold in enumerate(thresholds, 1):\n",
    "        labels[values > threshold] = i\n",
    "        \n",
    "    return labels.astype(int)\n",
    "\n",
    "def weighted_accuracy_score(y_true, y_pred):\n",
    "    nb_classes = np.max(y_true) - np.min(y_true)\n",
    "    differences = np.abs(y_true - y_pred)\n",
    "    error = np.sum(differences) / (nb_classes*len(y_true))\n",
    "    acc = 1 - error\n",
    "    return acc\n",
    "\n",
    "import numpy as np\n",
    "from sklearn.model_selection import cross_val_score, StratifiedKFold\n",
    "from sklearn.metrics import make_scorer, confusion_matrix, mean_absolute_error, accuracy_score\n",
    "import pandas as pd\n",
    "\n",
    "\n",
    "class OrdinalClassifier:\n",
    "    def __init__(self, model, X, y, folds=5):\n",
    "        self.model = model\n",
    "        self.X = X\n",
    "        self.y = y\n",
    "        self.folds = folds\n",
    "        \n",
    "    def evaluate(self):\n",
    "        cv = StratifiedKFold(n_splits=self.folds, shuffle=True, random_state=42)\n",
    "        scoring = {\n",
    "            'MAE': make_scorer(mean_absolute_error),\n",
    "            'accuracy': make_scorer(accuracy_score),\n",
    "            'weighted_acc': make_scorer(weighted_accuracy_score)\n",
    "        }\n",
    "        \n",
    "        cv = StratifiedKFold(n_splits=self.folds, shuffle=True, random_state=42)\n",
    "        scores = {metric: cross_val_score(self.model, self.X, self.y, cv=cv, scoring=scorer).mean() for metric, scorer in scoring.items()}\n",
    "        \n",
    "        return scores"
   ]
  },
  {
   "cell_type": "markdown",
   "id": "be8f0393-455c-40c0-a116-d60f1704e6b0",
   "metadata": {
    "jp-MarkdownHeadingCollapsed": true
   },
   "source": [
    "## Preparing the data"
   ]
  },
  {
   "cell_type": "code",
   "execution_count": 1,
   "id": "291f07c0-f776-478e-8e90-7ffbb4227304",
   "metadata": {},
   "outputs": [],
   "source": [
    "import pandas as pd\n",
    "import numpy as np\n",
    "\n",
    "df = pd.read_csv(\"../preprocessed.tsv\", sep = \"\\t\")\n",
    "df = df.drop(columns=['ROI'])"
   ]
  },
  {
   "cell_type": "code",
   "execution_count": 2,
   "id": "1232fe57-7173-44ce-acae-066da3a7cc3d",
   "metadata": {},
   "outputs": [],
   "source": [
    "df = df.fillna(0)\n",
    "df = df.loc[:, ~df.columns.str.startswith(\"Topic\")]\n",
    "df = df.drop(columns = [\"writer_max_total_profit\", \"writer_max_total_gross\", \"writer_max_nb_movies\"])\n",
    "df = df.drop(columns = [\"director_max_total_profit\",\"director_max_total_gross\",\"director_max_nb_movies\"])\n",
    "df = df.drop(columns=['network_aa_heterogeneity','weighted_genre_profitability'])"
   ]
  },
  {
   "cell_type": "code",
   "execution_count": 6,
   "id": "67c59e84-1058-4abc-ae4b-2b322f1b055b",
   "metadata": {},
   "outputs": [],
   "source": [
    "X = df.drop(columns=['revenue'])\n",
    "y = create_ordinal_labels(df['revenue'], n_classes=3, thresholds = [np.percentile(df['revenue'], 25), np.percentile(df['revenue'], 75)])"
   ]
  },
  {
   "cell_type": "code",
   "execution_count": 7,
   "id": "f1434c2a-8f07-494d-9203-c778da835ffe",
   "metadata": {},
   "outputs": [],
   "source": [
    "## Scaling (if necessary)\n",
    "from sklearn.preprocessing import StandardScaler\n",
    "scaler = StandardScaler()\n",
    "X = scaler.fit_transform(X)"
   ]
  },
  {
   "cell_type": "markdown",
   "id": "0cb6424d-b946-4969-b767-908783b4226d",
   "metadata": {
    "jp-MarkdownHeadingCollapsed": true
   },
   "source": [
    "## Model Training"
   ]
  },
  {
   "cell_type": "code",
   "execution_count": 5,
   "id": "a30690a8-71e3-4d13-a920-f966d50691b0",
   "metadata": {},
   "outputs": [],
   "source": [
    "# Model and hyperparameters\n",
    "from sklearn.ensemble import RandomForestClassifier,AdaBoostClassifier,GradientBoostingClassifier\n",
    "from sklearn.linear_model import LogisticRegression\n",
    "import xgboost as xgb\n",
    "from sklearn.svm import SVC\n",
    "from sklearn.neighbors import KNeighborsClassifier\n",
    "from sklearn.naive_bayes import GaussianNB\n",
    "\n",
    "\n",
    "folds = 5\n",
    "n_estimators = 300\n",
    "\n",
    "\n",
    "models = {\n",
    "    'rf': RandomForestClassifier(random_state=42, n_estimators = n_estimators),\n",
    "    'xgb': xgb.XGBClassifier(\n",
    "        objective='reg:squarederror', \n",
    "        max_depth=6,\n",
    "        learning_rate=0.1,\n",
    "        n_estimators=200,\n",
    "        subsample=0.8,\n",
    "        colsample_bytree=0.8,\n",
    "        random_state=42\n",
    "    ),\n",
    "    'ada': AdaBoostClassifier(algorithm='SAMME', random_state=42),\n",
    "    'logreg': LogisticRegression(max_iter=500),\n",
    "    'svm': SVC(kernel='linear', C=0.05),\n",
    "    'gbm': GradientBoostingClassifier(n_estimators=n_estimators, learning_rate=0.1, max_depth=2, random_state=42),\n",
    "\n",
    "    'knn': KNeighborsClassifier(n_neighbors=50)\n",
    "}\n"
   ]
  },
  {
   "cell_type": "code",
   "execution_count": 9,
   "id": "f3905eff-35cd-443b-9c6c-06c68da2c8e9",
   "metadata": {},
   "outputs": [
    {
     "data": {
      "text/plain": [
       "{'MAE': 0.33430440289304403,\n",
       " 'accuracy': 0.6689819351398193,\n",
       " 'weighted_acc': 0.832847798553478}"
      ]
     },
     "execution_count": 9,
     "metadata": {},
     "output_type": "execute_result"
    }
   ],
   "source": [
    "classifier = OrdinalClassifier(model=models['knn'], X=X, y=y, folds=5)\n",
    "\n",
    "# Train and evaluate\n",
    "classifier.evaluate()"
   ]
  }
 ],
 "metadata": {
  "kernelspec": {
   "display_name": "Python 3 (ipykernel)",
   "language": "python",
   "name": "python3"
  },
  "language_info": {
   "codemirror_mode": {
    "name": "ipython",
    "version": 3
   },
   "file_extension": ".py",
   "mimetype": "text/x-python",
   "name": "python",
   "nbconvert_exporter": "python",
   "pygments_lexer": "ipython3",
   "version": "3.12.2"
  }
 },
 "nbformat": 4,
 "nbformat_minor": 5
}
