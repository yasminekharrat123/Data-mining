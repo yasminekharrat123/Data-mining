{
 "cells": [
  {
   "cell_type": "markdown",
   "id": "af4031a1-d579-49b1-a205-fc5882c4eaa3",
   "metadata": {
    "jp-MarkdownHeadingCollapsed": true
   },
   "source": [
    "## Preparing Data"
   ]
  },
  {
   "cell_type": "code",
   "execution_count": 61,
   "id": "27c966bb-7cc9-489f-bd79-e183d3a74b07",
   "metadata": {},
   "outputs": [],
   "source": [
    "import pandas as pd\n",
    "df = pd.read_csv(\"../preprocessed.tsv\", sep = \"\\t\")\n",
    "df = df.drop(columns=['ROI'])"
   ]
  },
  {
   "cell_type": "code",
   "execution_count": null,
   "id": "96049c98-0ed5-44c4-b154-9bcbe1562d2c",
   "metadata": {},
   "outputs": [],
   "source": [
    "df = df.fillna(0)\n",
    "df = df.loc[:, ~df.columns.str.startswith(\"Topic\")]\n",
    "df = df.drop(columns = [\"writer_max_total_profit\", \"writer_max_total_gross\", \"writer_max_nb_movies\"])\n",
    "df = df.drop(columns = [\"director_max_total_profit\",\"director_max_total_gross\",\"director_max_nb_movies\"])\n",
    "df = df.drop(columns=['network_aa_heterogeneity','weighted_genre_profitability'])"
   ]
  },
  {
   "cell_type": "code",
   "execution_count": 62,
   "id": "c2f4500d-ebc9-4855-9b43-d6bac129c4d2",
   "metadata": {},
   "outputs": [],
   "source": [
    "## Preparing the data\n",
    "import numpy as np\n",
    "success_threshold = 70\n",
    "threshold = np.percentile(df['revenue'], success_threshold)\n",
    "y = (df['revenue'] > threshold).astype(int)\n",
    "X = df.drop(columns=['revenue'])"
   ]
  },
  {
   "cell_type": "code",
   "execution_count": 63,
   "id": "b03a75a4-cff1-481f-8cde-c9c1c19c4bc9",
   "metadata": {},
   "outputs": [],
   "source": [
    "## Scaling (if necessary)\n",
    "from sklearn.preprocessing import StandardScaler\n",
    "scaler = StandardScaler()\n",
    "X = scaler.fit_transform(X)"
   ]
  },
  {
   "cell_type": "markdown",
   "id": "f92f59ff-5def-43e6-8a8b-96a70f9df14d",
   "metadata": {
    "jp-MarkdownHeadingCollapsed": true
   },
   "source": [
    "## Model training"
   ]
  },
  {
   "cell_type": "code",
   "execution_count": 64,
   "id": "efdd49a2-9621-4642-9748-90060d2ad906",
   "metadata": {},
   "outputs": [],
   "source": [
    "# Model and hyperparameters\n",
    "from sklearn.ensemble import RandomForestClassifier,AdaBoostClassifier,GradientBoostingClassifier\n",
    "from sklearn.linear_model import LogisticRegression\n",
    "import xgboost as xgb\n",
    "from sklearn.svm import SVC\n",
    "from sklearn.neighbors import KNeighborsClassifier\n",
    "from sklearn.naive_bayes import GaussianNB\n",
    "\n",
    "\n",
    "folds = 5\n",
    "n_estimators = 200\n",
    "\n",
    "\n",
    "models = {\n",
    "    'rf': RandomForestClassifier(random_state=42, n_estimators = n_estimators),\n",
    "    'xgb': xgb.XGBClassifier(\n",
    "                objective='binary:logistic', \n",
    "                max_depth=2,                \n",
    "                learning_rate=0.05,           \n",
    "                n_estimators=n_estimators,         \n",
    "                subsample=0.8,               \n",
    "                colsample_bytree=0.8,       \n",
    "                random_state=42\n",
    "            ),\n",
    "    'ada': AdaBoostClassifier(algorithm='SAMME', random_state=42),\n",
    "    'logreg': LogisticRegression(max_iter=500),\n",
    "    'svm': SVC(kernel='linear', C=0.05),\n",
    "    'gbm': GradientBoostingClassifier(n_estimators=n_estimators, learning_rate=0.1, max_depth=2, random_state=42),\n",
    "    'knn': KNeighborsClassifier(n_neighbors=150),\n",
    "    'nb': GaussianNB()\n",
    "}\n"
   ]
  },
  {
   "cell_type": "code",
   "execution_count": 65,
   "id": "f76a60b8-2dd0-4bc4-8a41-c5680f38cfc8",
   "metadata": {},
   "outputs": [],
   "source": [
    "from sklearn.model_selection import cross_val_score, StratifiedKFold\n",
    "from sklearn.metrics import make_scorer, recall_score, precision_score, accuracy_score\n",
    "\n",
    "class BinaryClassifier:\n",
    "    def __init__(self, model, X, y, folds = 10):\n",
    "        self.model = model\n",
    "        self.X = X\n",
    "        self.y = y\n",
    "        self.folds = folds\n",
    "\n",
    "    def evaluate(self):\n",
    "        # Define scoring metrics\n",
    "        scoring = {\n",
    "            'accuracy': make_scorer(accuracy_score),\n",
    "            'precision': make_scorer(precision_score),\n",
    "            'recall': make_scorer(recall_score)\n",
    "        }\n",
    "\n",
    "        # Perform K-fold cross-validation\n",
    "        cv = StratifiedKFold(n_splits=self.folds, shuffle=True, random_state=42)\n",
    "        scores = {metric: cross_val_score(self.model, self.X, self.y, cv=cv, scoring=scorer).mean() for metric, scorer in scoring.items()}\n",
    "\n",
    "        # Print the results\n",
    "        print(f\"Accuracy: {scores['accuracy']:.4f}\")\n",
    "        print(f\"Precision: {scores['precision']:.4f}\")\n",
    "        print(f\"Recall: {scores['recall']:.4f}\")"
   ]
  },
  {
   "cell_type": "code",
   "execution_count": 66,
   "id": "ea5e6e3c-1526-4b4d-8ac1-4bbdadaa4c4d",
   "metadata": {},
   "outputs": [
    {
     "name": "stdout",
     "output_type": "stream",
     "text": [
      "Accuracy: 0.7522\n",
      "Precision: 0.5695\n",
      "Recall: 0.7839\n"
     ]
    }
   ],
   "source": [
    "# Create and evaluate BinaryClassifier\n",
    "binary_classifier = BinaryClassifier(model=models[\"nb\"], X=X, y=y,folds=folds)\n",
    "binary_classifier.evaluate()"
   ]
  },
  {
   "cell_type": "markdown",
   "id": "397564d1-b21b-4706-a760-00b8511acab8",
   "metadata": {
    "jp-MarkdownHeadingCollapsed": true
   },
   "source": [
    "### Ensemble Methods"
   ]
  },
  {
   "cell_type": "code",
   "execution_count": 67,
   "id": "66e36103-d249-42f1-a8cf-cdfbf3323b66",
   "metadata": {},
   "outputs": [],
   "source": [
    "from sklearn.model_selection import cross_val_predict, StratifiedKFold\n",
    "from sklearn.metrics import make_scorer, recall_score, precision_score, accuracy_score\n",
    "import numpy as np\n",
    "from scipy.stats import mode\n",
    "\n",
    "class EnsembleBinaryClassifier:\n",
    "    def __init__(self, models, X, y, folds=5):\n",
    "        self.models = models\n",
    "        self.X = X\n",
    "        self.y = y\n",
    "        self.folds = folds\n",
    "\n",
    "    def evaluate(self):\n",
    "        cv = StratifiedKFold(n_splits=self.folds, shuffle=True, random_state=42)\n",
    "        predictions = []\n",
    "        \n",
    "        for model in self.models:\n",
    "            pred = cross_val_predict(model, self.X, self.y, cv=cv)\n",
    "            predictions.append(pred)\n",
    "        \n",
    "        predictions = np.array(predictions)\n",
    "        majority_vote = mode(predictions, axis=0).mode.flatten()\n",
    "        \n",
    "        scores = {\n",
    "            'accuracy': accuracy_score(self.y, majority_vote),\n",
    "            'precision': precision_score(self.y, majority_vote),\n",
    "            'recall': recall_score(self.y, majority_vote)\n",
    "        }\n",
    "        \n",
    "        for metric, score in scores.items():\n",
    "            print(f\"{metric.capitalize()}: {score:.4f}\")\n"
   ]
  },
  {
   "cell_type": "code",
   "execution_count": 68,
   "id": "599b932f-10a6-4612-b0e2-a102e85ef749",
   "metadata": {},
   "outputs": [
    {
     "name": "stdout",
     "output_type": "stream",
     "text": [
      "Accuracy: 0.8616\n",
      "Precision: 0.8365\n",
      "Recall: 0.6695\n"
     ]
    }
   ],
   "source": [
    "# Create and evaluate ensemble model\n",
    "from sklearn.ensemble import RandomForestClassifier, AdaBoostClassifier\n",
    "from xgboost import XGBClassifier\n",
    "binary_classifier = EnsembleBinaryClassifier(models=models.values(),X=X, y=y,folds=5)\n",
    "binary_classifier.evaluate()"
   ]
  },
  {
   "cell_type": "markdown",
   "id": "1e78753b-a81f-4dec-8f33-6f0f3de098fa",
   "metadata": {
    "jp-MarkdownHeadingCollapsed": true
   },
   "source": [
    "### Feature importance"
   ]
  },
  {
   "cell_type": "code",
   "execution_count": null,
   "id": "78529c7b-51ab-4e78-a539-74eadc6cf815",
   "metadata": {},
   "outputs": [],
   "source": [
    "import pandas as pd\n",
    "import xgboost as xgb\n",
    "\n",
    "# Train model\n",
    "model = xgb.XGBClassifier()\n",
    "model.fit(X, y)\n",
    "\n",
    "# Extract feature importance\n",
    "feature_names = X.columns if isinstance(X, pd.DataFrame) else range(X.shape[1])\n",
    "importance = model.feature_importances_\n",
    "\n",
    "# Create DataFrame\n",
    "df_importance = pd.DataFrame(sorted(zip(feature_names, importance), key=lambda x: x[1], reverse=True),\n",
    "                             columns=[\"Feature\", \"Importance\"])\n",
    "pd.set_option('display.max_rows', None)\n",
    "\n",
    "df_importance.head(80)\n"
   ]
  }
 ],
 "metadata": {
  "kernelspec": {
   "display_name": "Python 3 (ipykernel)",
   "language": "python",
   "name": "python3"
  },
  "language_info": {
   "codemirror_mode": {
    "name": "ipython",
    "version": 3
   },
   "file_extension": ".py",
   "mimetype": "text/x-python",
   "name": "python",
   "nbconvert_exporter": "python",
   "pygments_lexer": "ipython3",
   "version": "3.12.2"
  }
 },
 "nbformat": 4,
 "nbformat_minor": 5
}
