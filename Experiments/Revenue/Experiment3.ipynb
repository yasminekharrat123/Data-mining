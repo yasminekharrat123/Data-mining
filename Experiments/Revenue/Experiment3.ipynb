{
 "cells": [
  {
   "cell_type": "markdown",
   "id": "2e31d488-abbc-4588-9520-6950f96c20f0",
   "metadata": {
    "jp-MarkdownHeadingCollapsed": true
   },
   "source": [
    "## Preparing the data"
   ]
  },
  {
   "cell_type": "code",
   "execution_count": 33,
   "id": "ac79c6e6-a325-4149-a86c-ba764854a515",
   "metadata": {},
   "outputs": [],
   "source": [
    "import pandas as pd\n",
    "import numpy as np\n",
    "\n",
    "df = pd.read_csv(\"../preprocessed.tsv\", sep = \"\\t\")\n",
    "df = df.apply(lambda x: x.astype(int) if x.dtype == 'bool' else x)\n",
    "df = df.drop(columns=[\"ROI\"])\n",
    "df = df.fillna(0)"
   ]
  },
  {
   "cell_type": "code",
   "execution_count": 34,
   "id": "d53dc9eb-6325-4dcb-b3d3-82c615cf786c",
   "metadata": {},
   "outputs": [],
   "source": [
    "df = df.fillna(0)\n",
    "df = df.drop(columns=[\"Transmedia\",'startYear',\"max_genre_profitability\",\"runtime\"])\n",
    "df = df.drop(columns = [\"director_max_total_profit\", \"director_max_avg_profit\",\"director_max_avg_gross\"])\n",
    "df = df.drop(columns = [\"writer_max_total_profit\", \"writer_max_avg_profit\", \"writer_max_avg_gross\"])\n",
    "df = df.drop(columns = [\"actors_avg_total_profit\",\"actors_avg_total_gross\",\"actors_avg_nb_movies\"])"
   ]
  },
  {
   "cell_type": "code",
   "execution_count": 35,
   "id": "d5c61ceb-1f0d-42ad-b8c1-98f2831be770",
   "metadata": {},
   "outputs": [],
   "source": [
    "df[\"revenue\"] = np.log(df[\"revenue\"]+ 1)"
   ]
  },
  {
   "cell_type": "code",
   "execution_count": 36,
   "id": "4b476fcc-24e5-495a-bc73-9cbe333afc6b",
   "metadata": {},
   "outputs": [],
   "source": [
    "X = df.drop(columns=['revenue'])\n",
    "XP = df.drop(columns=['revenue'])\n",
    "y = df[\"revenue\"]"
   ]
  },
  {
   "cell_type": "code",
   "execution_count": 37,
   "id": "ecc5c465-7878-44be-90b6-fd44c0b6d940",
   "metadata": {},
   "outputs": [],
   "source": [
    "from sklearn.preprocessing import StandardScaler\n",
    "scaler = StandardScaler()\n",
    "X = scaler.fit_transform(X)"
   ]
  },
  {
   "cell_type": "code",
   "execution_count": null,
   "id": "02b0afcb-6e9b-4cdb-b1e6-88edd24b948e",
   "metadata": {},
   "outputs": [],
   "source": [
    "import matplotlib.pyplot as plt\n",
    "import seaborn as sns\n",
    "\n",
    "plt.figure(figsize=(10, 6))\n",
    "sns.histplot(y, kde=False, color='blue', label='y', bins=100, stat='density')\n",
    "plt.legend()\n",
    "plt.xlabel('revenue')\n",
    "plt.ylabel('Density')\n",
    "plt.show()\n"
   ]
  },
  {
   "cell_type": "markdown",
   "id": "8193fb10-758f-4834-bf81-3701d3724824",
   "metadata": {
    "jp-MarkdownHeadingCollapsed": true
   },
   "source": [
    "## Using Lasso"
   ]
  },
  {
   "cell_type": "code",
   "execution_count": 38,
   "id": "76c1b3e3-d9a9-413e-91a2-63e138cf090f",
   "metadata": {},
   "outputs": [
    {
     "name": "stdout",
     "output_type": "stream",
     "text": [
      "RMSE for each fold: [2.1126736  2.18979022 2.19112814 2.54085005 2.26031787 2.33508586\n",
      " 2.35680768 2.08856658 2.24689165 2.36000387]\n",
      "Average RMSE: 2.268211551469097\n",
      "R² for each fold: [0.37920716 0.45287384 0.47834684 0.44750961 0.49649989 0.54886831\n",
      " 0.45726379 0.56331369 0.55883812 0.54034999]\n",
      "Average R²: 0.4923071245554199\n"
     ]
    }
   ],
   "source": [
    "from sklearn.linear_model import Lasso\n",
    "from sklearn.model_selection import cross_val_score\n",
    "import numpy as np\n",
    "from sklearn.metrics import r2_score\n",
    "\n",
    "# Lasso model\n",
    "lasso = Lasso(alpha=0.025)\n",
    "\n",
    "# Perform 10-fold cross-validation\n",
    "mse_scores = cross_val_score(lasso, X, y, cv=10, scoring='neg_mean_squared_error')\n",
    "\n",
    "# Convert MSE to RMSE (note that scores are negative because of 'neg_mean_squared_error')\n",
    "rmse_scores = np.sqrt(-mse_scores)\n",
    "\n",
    "# Print RMSE for each fold and the average RMSE\n",
    "print(\"RMSE for each fold:\", rmse_scores)\n",
    "print(\"Average RMSE:\", rmse_scores.mean())\n",
    "\n",
    "# Perform cross-validation for R² score\n",
    "r2_scores = cross_val_score(lasso, X, y, cv=10, scoring='r2')\n",
    "\n",
    "# Print R² for each fold and the average R²\n",
    "print(\"R² for each fold:\", r2_scores)\n",
    "print(\"Average R²:\", r2_scores.mean())\n"
   ]
  },
  {
   "cell_type": "code",
   "execution_count": 39,
   "id": "171a21d3-2ea2-40e8-ace3-4d2d846abcd0",
   "metadata": {},
   "outputs": [],
   "source": [
    "from sklearn.linear_model import Lasso\n",
    "\n",
    "import pandas as pd\n",
    "import numpy as np\n",
    "\n",
    "# Fit the Lasso model\n",
    "lasso = Lasso(alpha=0.025)\n",
    "lasso.fit(X, y)\n",
    "\n",
    "# Get feature importances (absolute value of coefficients)\n",
    "feature_importance = lasso.coef_\n",
    "\n",
    "# Create a DataFrame to display features and their importance\n",
    "importance_df = pd.DataFrame({\n",
    "    'Feature': XP.columns,\n",
    "    'Importance': feature_importance\n",
    "})\n",
    "\n",
    "\n",
    "pd.set_option('display.max_rows', None)\n",
    "\n",
    "# Sort by importance in descending order\n",
    "importance_df = importance_df.sort_values(by='Importance')\n",
    "\n",
    "selected_features = importance_df[importance_df['Importance'] != 0]['Feature'].tolist()\n",
    "\n",
    "from statsmodels.stats.outliers_influence import variance_inflation_factor\n",
    "from statsmodels.tools.tools import add_constant\n",
    "X_selected = XP[selected_features]\n",
    "\n",
    "\n",
    "# Calculate VIF for each feature\n",
    "vif_data = pd.DataFrame()\n",
    "vif_data[\"Feature\"] = X_selected.columns\n",
    "vif_data[\"VIF\"] = [variance_inflation_factor(X_selected.values, i) for i in range(X_selected.shape[1])]\n",
    "\n"
   ]
  },
  {
   "cell_type": "code",
   "execution_count": null,
   "id": "6678a521-e302-4f5e-8a21-7fa1c0112029",
   "metadata": {},
   "outputs": [],
   "source": [
    "importance_df = importance_df.reindex(importance_df[\"Importance\"].abs().sort_values(ascending=False).index)\n",
    "importance_df"
   ]
  },
  {
   "cell_type": "markdown",
   "id": "f792b332-5850-4bdf-9d83-b7304c462f57",
   "metadata": {
    "jp-MarkdownHeadingCollapsed": true
   },
   "source": [
    "## Using XGB"
   ]
  },
  {
   "cell_type": "code",
   "execution_count": 29,
   "id": "5b7df051-1ebf-49de-8f8e-3194444eefcc",
   "metadata": {},
   "outputs": [
    {
     "name": "stdout",
     "output_type": "stream",
     "text": [
      "RMSE: 1.6897\n"
     ]
    }
   ],
   "source": [
    "import xgboost as xgb\n",
    "import numpy as np\n",
    "from sklearn.model_selection import train_test_split\n",
    "from sklearn.metrics import root_mean_squared_error\n",
    "\n",
    "\n",
    "# Split data\n",
    "X_train, X_test, y_train, y_test = train_test_split(X, y, test_size=0.2, random_state=42)\n",
    "\n",
    "# Train XGBoost model\n",
    "model = xgb.XGBRegressor(objective='reg:squarederror', n_estimators=100, learning_rate=0.07, max_depth=3)\n",
    "model.fit(X_train, y_train)\n",
    "\n",
    "# Predictions\n",
    "y_pred = model.predict(X_test)\n",
    "\n",
    "y_pred_original = np.expm1(y_pred)\n",
    "y_test_original = np.expm1(y_test)\n",
    "\n",
    "# Evaluate\n",
    "rmse = root_mean_squared_error(y_test, y_pred)\n",
    "print(f\"RMSE: {rmse:.4f}\")"
   ]
  },
  {
   "cell_type": "code",
   "execution_count": 30,
   "id": "144daf90-7298-46a5-84f2-310aa07bef05",
   "metadata": {},
   "outputs": [
    {
     "name": "stdout",
     "output_type": "stream",
     "text": [
      "R² (original scale): 0.6975\n"
     ]
    }
   ],
   "source": [
    "from sklearn.metrics import r2_score\n",
    "\n",
    "# Compute R² on original scale\n",
    "r2_original = r2_score(y_test, y_pred)\n",
    "print(f\"R² (original scale): {r2_original:.4f}\")"
   ]
  },
  {
   "cell_type": "markdown",
   "id": "2f082e58-f71e-4f21-ab70-fdeedb9cb532",
   "metadata": {
    "jp-MarkdownHeadingCollapsed": true
   },
   "source": [
    "## Using SVR"
   ]
  },
  {
   "cell_type": "code",
   "execution_count": 32,
   "id": "a37dbcc7-360b-4392-8c53-af00b827c51a",
   "metadata": {},
   "outputs": [
    {
     "name": "stdout",
     "output_type": "stream",
     "text": [
      "RMSE: 2.2788\n",
      "R² (original scale): 0.4498\n"
     ]
    }
   ],
   "source": [
    "import numpy as np\n",
    "from sklearn.svm import SVR\n",
    "from sklearn.model_selection import train_test_split\n",
    "from sklearn.metrics import root_mean_squared_error\n",
    "from sklearn.metrics import r2_score\n",
    "\n",
    "\n",
    "X_train, X_test, y_train, y_test = train_test_split(X, y, test_size=0.2, random_state=42)\n",
    "\n",
    "model = SVR(kernel='rbf', C=0.1, epsilon=0.01)\n",
    "model.fit(X_train, y_train)\n",
    "\n",
    "y_pred = model.predict(X_test)\n",
    "\n",
    "rmse = root_mean_squared_error(y_test, y_pred)\n",
    "print(f\"RMSE: {rmse:.4f}\")\n",
    "r2 = r2_score(y_test, y_pred)\n",
    "print(f\"R² (original scale): {r2:.4f}\")"
   ]
  },
  {
   "cell_type": "code",
   "execution_count": null,
   "id": "79cc93f6-0157-48d6-badc-79a1eec9be19",
   "metadata": {},
   "outputs": [],
   "source": []
  },
  {
   "cell_type": "code",
   "execution_count": null,
   "id": "28a1ee99-4390-47b0-bf02-df5b840362c5",
   "metadata": {},
   "outputs": [],
   "source": []
  }
 ],
 "metadata": {
  "kernelspec": {
   "display_name": "Python 3 (ipykernel)",
   "language": "python",
   "name": "python3"
  },
  "language_info": {
   "codemirror_mode": {
    "name": "ipython",
    "version": 3
   },
   "file_extension": ".py",
   "mimetype": "text/x-python",
   "name": "python",
   "nbconvert_exporter": "python",
   "pygments_lexer": "ipython3",
   "version": "3.12.2"
  }
 },
 "nbformat": 4,
 "nbformat_minor": 5
}
