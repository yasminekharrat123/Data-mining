{
 "cells": [
  {
   "cell_type": "code",
   "execution_count": 20,
   "id": "5971161b-74d7-42bb-942d-0e1fdcb44e7d",
   "metadata": {},
   "outputs": [],
   "source": [
    "##Let's first calculate the vector of each movie from 1999\n",
    "import pandas as pd\n",
    "import numpy as np\n",
    "omdf = pd.read_csv(\"./1999_movies_genre_profit.tsv\", sep='\\t')\n",
    "\n",
    "genre_to_id = {\n",
    "    'Drama': 0, 'Horror': 1, 'Action': 2, 'Crime': 3, 'Thriller': 4, \n",
    "    'Family': 5, 'Sci-Fi': 6, 'Comedy': 7, 'Romance': 8, 'War': 9, \n",
    "    'Adventure': 10, 'Fantasy': 11, 'Animation': 12, 'Mystery': 13, \n",
    "    'History': 14, 'Western': 15, 'Music': 16, 'Biography': 17, \n",
    "    'Sport': 18, 'Musical': 19, 'Documentary': 20\n",
    "}\n",
    "omdf['genres_vector'] = [np.zeros(21) for _ in range(len(omdf))]\n",
    "\n",
    "for index, row in omdf.iterrows():\n",
    "    genres = row['genres'].split(',')\n",
    "    genres_vector = np.zeros(21)\n",
    "    for genre in genres:\n",
    "        genres_vector[genre_to_id[genre]] = 1\n",
    "    omdf.at[index, 'genres_vector'] = genres_vector\n"
   ]
  },
  {
   "cell_type": "code",
   "execution_count": 21,
   "id": "4ab8ddb8-3ef5-4efb-8e68-fa28d2c0e35e",
   "metadata": {},
   "outputs": [
    {
     "name": "stderr",
     "output_type": "stream",
     "text": [
      "5477it [00:00, 18817.35it/s]\n"
     ]
    }
   ],
   "source": [
    "## Let's now calculate the vector of each movie in the final dataset\n",
    "from tqdm import tqdm\n",
    "mdf = pd.read_csv(\"../Final/rly_final_movies.tsv\", sep='\\t')\n",
    "mdf['genres_vector'] = [np.zeros(21) for _ in range(len(mdf))]\n",
    "\n",
    "for index, row in tqdm(mdf.iterrows()):\n",
    "    genres = row['genres'].split(',')\n",
    "    genres_vector = np.zeros(21)\n",
    "    for genre in genres:\n",
    "        genres_vector[genre_to_id[genre]] = 1\n",
    "    mdf.at[index, 'genres_vector'] = genres_vector"
   ]
  },
  {
   "cell_type": "code",
   "execution_count": 27,
   "id": "e4d9c8ad-cf8b-477f-9688-00f713788c79",
   "metadata": {},
   "outputs": [],
   "source": [
    "## Let's calculate our new feature\n",
    "mdf[\"profit\"] = mdf[\"revenue\"] - mdf[\"budget\"]\n",
    "mdf['weighted_genre_profitability'] = 0"
   ]
  },
  {
   "cell_type": "code",
   "execution_count": 29,
   "id": "0353f1a9-33a4-4560-9b69-133708fe46a8",
   "metadata": {},
   "outputs": [
    {
     "name": "stderr",
     "output_type": "stream",
     "text": [
      "0it [00:00, ?it/s]C:\\Users\\moham\\AppData\\Local\\Temp\\ipykernel_16860\\3622195200.py:11: FutureWarning: Setting an item of incompatible dtype is deprecated and will raise an error in a future version of pandas. Value '1919887183.2597163' has dtype incompatible with int64, please explicitly cast to a compatible dtype first.\n",
      "  mdf.at[index, \"weighted_genre_profitability\"] = result\n",
      "5477it [00:02, 2300.47it/s]\n"
     ]
    }
   ],
   "source": [
    "##Starting from movies 2000\n",
    "def cosine_similarity(vec1, vec2):\n",
    "    return np.dot(vec1, vec2) / (np.linalg.norm(vec1) * np.linalg.norm(vec2))\n",
    "\n",
    "for index, row in tqdm(mdf.iterrows()):\n",
    "    if row[\"startYear\"] > 2000:\n",
    "        continue\n",
    "    result = 0\n",
    "    for i,r in omdf.iterrows():\n",
    "        result += (cosine_similarity(row[\"genres_vector\"], r[\"genres_vector\"]) * r[\"profit\"])\n",
    "    mdf.at[index, \"weighted_genre_profitability\"] = result"
   ]
  },
  {
   "cell_type": "code",
   "execution_count": 31,
   "id": "2032e8cc-7305-4129-ba27-64c481766f1b",
   "metadata": {},
   "outputs": [
    {
     "name": "stderr",
     "output_type": "stream",
     "text": [
      "5477it [01:06, 82.45it/s] \n"
     ]
    }
   ],
   "source": [
    "## Other movies\n",
    "for index, row in tqdm(mdf.iterrows()):\n",
    "    if row[\"startYear\"] <= 2000:\n",
    "        continue\n",
    "    last_year = row[\"startYear\"] - 1 \n",
    "    result = 0\n",
    "    for i,r in mdf[mdf[\"startYear\"] == last_year].iterrows():\n",
    "        result += (cosine_similarity(row[\"genres_vector\"], r[\"genres_vector\"]) * r[\"profit\"])\n",
    "    mdf.at[index, \"weighted_genre_profitability\"] = result"
   ]
  },
  {
   "cell_type": "code",
   "execution_count": 33,
   "id": "44f17301-c744-4f81-ba32-89b1918ba249",
   "metadata": {},
   "outputs": [],
   "source": [
    "mdf.to_csv(\"../Final/rly_final_movies.tsv\", sep='\\t', index=False)"
   ]
  },
  {
   "cell_type": "code",
   "execution_count": null,
   "id": "5e1c2e69-4b1e-41d6-9bf4-11084d0eb715",
   "metadata": {},
   "outputs": [],
   "source": []
  }
 ],
 "metadata": {
  "kernelspec": {
   "display_name": "Python 3 (ipykernel)",
   "language": "python",
   "name": "python3"
  },
  "language_info": {
   "codemirror_mode": {
    "name": "ipython",
    "version": 3
   },
   "file_extension": ".py",
   "mimetype": "text/x-python",
   "name": "python",
   "nbconvert_exporter": "python",
   "pygments_lexer": "ipython3",
   "version": "3.12.2"
  }
 },
 "nbformat": 4,
 "nbformat_minor": 5
}
